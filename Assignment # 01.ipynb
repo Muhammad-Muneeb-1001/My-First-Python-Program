{
 "cells": [
  {
   "cell_type": "code",
   "execution_count": 1,
   "metadata": {},
   "outputs": [
    {
     "name": "stdout",
     "output_type": "stream",
     "text": [
      "Twinkle, twinkle, little star, How I wonder what you are!, Up above the world so high, Like a diamond in the sky. Twinkle, twinkle, little star, How I wonder what you are\n"
     ]
    }
   ],
   "source": [
    "poem = (\"Twinkle, twinkle, little star, \"\n",
    "        \n",
    "                +\"How I wonder what you are!, \"\n",
    "        \n",
    "                +\"Up above the world so high, \"\n",
    "        \n",
    "            +\"Like a diamond in the sky. \"\n",
    "        \n",
    "            +\"Twinkle, twinkle, little star, \"\n",
    "        \n",
    "        +\"How I wonder what you are\")\n",
    "\n",
    "\n",
    "print(poem)"
   ]
  },
  {
   "cell_type": "code",
   "execution_count": 2,
   "metadata": {},
   "outputs": [
    {
     "name": "stdout",
     "output_type": "stream",
     "text": [
      "Python version\n",
      "3.7.3 (default, Apr 24 2019, 15:29:51) [MSC v.1915 64 bit (AMD64)]\n",
      "Version info.\n",
      "sys.version_info(major=3, minor=7, micro=3, releaselevel='final', serial=0)\n"
     ]
    }
   ],
   "source": [
    "import sys\n",
    "print(\"Python version\")\n",
    "print (sys.version)\n",
    "print(\"Version info.\")\n",
    "print (sys.version_info)\n"
   ]
  },
  {
   "cell_type": "code",
   "execution_count": 3,
   "metadata": {},
   "outputs": [
    {
     "name": "stdout",
     "output_type": "stream",
     "text": [
      "now it is = 2019-11-22 11:52:14.008753\n",
      "date and time = 22/11/2019 11:52:14\n"
     ]
    }
   ],
   "source": [
    "from datetime import datetime\n",
    "#current date and time\n",
    "now = datetime.now()\n",
    " \n",
    "print(\"now it is =\", now)\n",
    "# dd/mm/YY H:M:S\n",
    "dt_string = now.strftime(\"%d/%m/%Y %H:%M:%S\")\n",
    "print(\"date and time =\", dt_string)\t"
   ]
  },
  {
   "cell_type": "code",
   "execution_count": 4,
   "metadata": {},
   "outputs": [
    {
     "name": "stdout",
     "output_type": "stream",
     "text": [
      "Input your First Name : Muneeb\n",
      "Input your Last Name : Qureshi\n",
      "Hello  Qureshi Muneeb\n"
     ]
    }
   ],
   "source": [
    "fname = input(\"Input your First Name : \")\n",
    "lname = input(\"Input your Last Name : \")\n",
    "print (\"Hello  \" + lname + \" \" + fname)"
   ]
  },
  {
   "cell_type": "code",
   "execution_count": 5,
   "metadata": {},
   "outputs": [
    {
     "name": "stdout",
     "output_type": "stream",
     "text": [
      "Enter first number here:4\n",
      "Enter second number here:8\n"
     ]
    },
    {
     "data": {
      "text/plain": [
       "12"
      ]
     },
     "execution_count": 5,
     "metadata": {},
     "output_type": "execute_result"
    }
   ],
   "source": [
    "a =int(input(\"Enter first number here:\"))\n",
    "b = int(input(\"Enter second number here:\"))\n",
    "c= a + b\n",
    "c"
   ]
  },
  {
   "cell_type": "code",
   "execution_count": null,
   "metadata": {},
   "outputs": [],
   "source": []
  },
  {
   "cell_type": "code",
   "execution_count": null,
   "metadata": {},
   "outputs": [],
   "source": []
  }
 ],
 "metadata": {
  "kernelspec": {
   "display_name": "Python 3",
   "language": "python",
   "name": "python3"
  },
  "language_info": {
   "codemirror_mode": {
    "name": "ipython",
    "version": 3
   },
   "file_extension": ".py",
   "mimetype": "text/x-python",
   "name": "python",
   "nbconvert_exporter": "python",
   "pygments_lexer": "ipython3",
   "version": "3.7.3"
  }
 },
 "nbformat": 4,
 "nbformat_minor": 2
}
